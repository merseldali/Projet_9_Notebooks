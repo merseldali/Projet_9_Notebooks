{
 "cells": [
  {
   "cell_type": "markdown",
   "id": "017f13d3-17d6-4dad-8779-69fc4e865511",
   "metadata": {},
   "source": [
    "# Import des librairies"
   ]
  },
  {
   "cell_type": "code",
   "execution_count": 1,
   "id": "bf26e57c-a703-4dbc-89f6-464d05fdd45c",
   "metadata": {},
   "outputs": [
    {
     "name": "stdout",
     "output_type": "stream",
     "text": [
      "Collecting pandas_profiling\n",
      "  Downloading pandas_profiling-3.6.1-py2.py3-none-any.whl (328 kB)\n",
      "\u001b[2K     \u001b[90m━━━━━━━━━━━━━━━━━━━━━━━━━━━━━━━━━━━━━━\u001b[0m \u001b[32m328.5/328.5 kB\u001b[0m \u001b[31m42.7 MB/s\u001b[0m eta \u001b[36m0:00:00\u001b[0m\n",
      "\u001b[?25hRequirement already satisfied: pandas!=1.4.0,<1.6,>1.1 in /usr/local/lib/python3.9/dist-packages (from pandas_profiling) (1.4.3)\n",
      "Requirement already satisfied: jinja2<3.2,>=2.11.1 in /usr/local/lib/python3.9/dist-packages (from pandas_profiling) (3.1.2)\n",
      "Requirement already satisfied: PyYAML<6.1,>=5.0.0 in /usr/local/lib/python3.9/dist-packages (from pandas_profiling) (5.4.1)\n",
      "Collecting multimethod<1.10,>=1.4\n",
      "  Downloading multimethod-1.9.1-py3-none-any.whl (10 kB)\n",
      "Requirement already satisfied: requests<2.29,>=2.24.0 in /usr/local/lib/python3.9/dist-packages (from pandas_profiling) (2.28.1)\n",
      "Requirement already satisfied: numpy<1.24,>=1.16.0 in /usr/local/lib/python3.9/dist-packages (from pandas_profiling) (1.23.1)\n",
      "Collecting visions[type_image_path]==0.7.5\n",
      "  Downloading visions-0.7.5-py3-none-any.whl (102 kB)\n",
      "\u001b[2K     \u001b[90m━━━━━━━━━━━━━━━━━━━━━━━━━━━━━━━━━━━━━━\u001b[0m \u001b[32m102.7/102.7 kB\u001b[0m \u001b[31m39.0 MB/s\u001b[0m eta \u001b[36m0:00:00\u001b[0m\n",
      "\u001b[?25hRequirement already satisfied: seaborn<0.13,>=0.10.1 in /usr/local/lib/python3.9/dist-packages (from pandas_profiling) (0.11.2)\n",
      "Collecting typeguard<2.14,>=2.13.2\n",
      "  Downloading typeguard-2.13.3-py3-none-any.whl (17 kB)\n",
      "Requirement already satisfied: tqdm<4.65,>=4.48.2 in /usr/local/lib/python3.9/dist-packages (from pandas_profiling) (4.64.0)\n",
      "Requirement already satisfied: pydantic<1.11,>=1.8.1 in /usr/local/lib/python3.9/dist-packages (from pandas_profiling) (1.9.1)\n",
      "Requirement already satisfied: scipy<1.10,>=1.4.1 in /usr/local/lib/python3.9/dist-packages (from pandas_profiling) (1.8.1)\n",
      "Collecting htmlmin==0.1.12\n",
      "  Downloading htmlmin-0.1.12.tar.gz (19 kB)\n",
      "  Preparing metadata (setup.py) ... \u001b[?25ldone\n",
      "\u001b[?25hRequirement already satisfied: matplotlib<3.7,>=3.2 in /usr/local/lib/python3.9/dist-packages (from pandas_profiling) (3.5.2)\n",
      "Collecting phik<0.13,>=0.11.1\n",
      "  Downloading phik-0.12.3-cp39-cp39-manylinux_2_17_x86_64.manylinux2014_x86_64.whl (679 kB)\n",
      "\u001b[2K     \u001b[90m━━━━━━━━━━━━━━━━━━━━━━━━━━━━━━━━━━━━━━\u001b[0m \u001b[32m679.8/679.8 kB\u001b[0m \u001b[31m38.5 MB/s\u001b[0m eta \u001b[36m0:00:00\u001b[0m\n",
      "\u001b[?25hCollecting statsmodels<0.14,>=0.13.2\n",
      "  Downloading statsmodels-0.13.5-cp39-cp39-manylinux_2_17_x86_64.manylinux2014_x86_64.whl (9.9 MB)\n",
      "\u001b[2K     \u001b[90m━━━━━━━━━━━━━━━━━━━━━━━━━━━━━━━━━━━━━━━━\u001b[0m \u001b[32m9.9/9.9 MB\u001b[0m \u001b[31m100.1 MB/s\u001b[0m eta \u001b[36m0:00:00\u001b[0m00:01\u001b[0m00:01\u001b[0m\n",
      "\u001b[?25hRequirement already satisfied: networkx>=2.4 in /usr/local/lib/python3.9/dist-packages (from visions[type_image_path]==0.7.5->pandas_profiling) (2.8.4)\n",
      "Collecting tangled-up-in-unicode>=0.0.4\n",
      "  Downloading tangled_up_in_unicode-0.2.0-py3-none-any.whl (4.7 MB)\n",
      "\u001b[2K     \u001b[90m━━━━━━━━━━━━━━━━━━━━━━━━━━━━━━━━━━━━━━━━\u001b[0m \u001b[32m4.7/4.7 MB\u001b[0m \u001b[31m120.9 MB/s\u001b[0m eta \u001b[36m0:00:00\u001b[0m00:01\u001b[0m\n",
      "\u001b[?25hCollecting attrs>=19.3.0\n",
      "  Downloading attrs-22.2.0-py3-none-any.whl (60 kB)\n",
      "\u001b[2K     \u001b[90m━━━━━━━━━━━━━━━━━━━━━━━━━━━━━━━━━━━━━━━━\u001b[0m \u001b[32m60.0/60.0 kB\u001b[0m \u001b[31m24.0 MB/s\u001b[0m eta \u001b[36m0:00:00\u001b[0m\n",
      "\u001b[?25hRequirement already satisfied: Pillow in /usr/local/lib/python3.9/dist-packages (from visions[type_image_path]==0.7.5->pandas_profiling) (9.2.0)\n",
      "Collecting imagehash\n",
      "  Downloading ImageHash-4.3.1-py2.py3-none-any.whl (296 kB)\n",
      "\u001b[2K     \u001b[90m━━━━━━━━━━━━━━━━━━━━━━━━━━━━━━━━━━━━━━\u001b[0m \u001b[32m296.5/296.5 kB\u001b[0m \u001b[31m58.4 MB/s\u001b[0m eta \u001b[36m0:00:00\u001b[0m\n",
      "\u001b[?25hRequirement already satisfied: MarkupSafe>=2.0 in /usr/local/lib/python3.9/dist-packages (from jinja2<3.2,>=2.11.1->pandas_profiling) (2.1.1)\n",
      "Requirement already satisfied: packaging>=20.0 in /usr/local/lib/python3.9/dist-packages (from matplotlib<3.7,>=3.2->pandas_profiling) (21.3)\n",
      "Requirement already satisfied: fonttools>=4.22.0 in /usr/local/lib/python3.9/dist-packages (from matplotlib<3.7,>=3.2->pandas_profiling) (4.34.4)\n",
      "Requirement already satisfied: python-dateutil>=2.7 in /usr/local/lib/python3.9/dist-packages (from matplotlib<3.7,>=3.2->pandas_profiling) (2.8.2)\n",
      "Requirement already satisfied: cycler>=0.10 in /usr/local/lib/python3.9/dist-packages (from matplotlib<3.7,>=3.2->pandas_profiling) (0.11.0)\n",
      "Requirement already satisfied: kiwisolver>=1.0.1 in /usr/local/lib/python3.9/dist-packages (from matplotlib<3.7,>=3.2->pandas_profiling) (1.4.3)\n",
      "Requirement already satisfied: pyparsing>=2.2.1 in /usr/local/lib/python3.9/dist-packages (from matplotlib<3.7,>=3.2->pandas_profiling) (3.0.9)\n",
      "Requirement already satisfied: pytz>=2020.1 in /usr/local/lib/python3.9/dist-packages (from pandas!=1.4.0,<1.6,>1.1->pandas_profiling) (2022.1)\n",
      "Requirement already satisfied: joblib>=0.14.1 in /usr/local/lib/python3.9/dist-packages (from phik<0.13,>=0.11.1->pandas_profiling) (1.1.0)\n",
      "Requirement already satisfied: typing-extensions>=3.7.4.3 in /usr/local/lib/python3.9/dist-packages (from pydantic<1.11,>=1.8.1->pandas_profiling) (4.3.0)\n",
      "Requirement already satisfied: idna<4,>=2.5 in /usr/lib/python3/dist-packages (from requests<2.29,>=2.24.0->pandas_profiling) (2.8)\n",
      "Requirement already satisfied: certifi>=2017.4.17 in /usr/lib/python3/dist-packages (from requests<2.29,>=2.24.0->pandas_profiling) (2019.11.28)\n",
      "Requirement already satisfied: charset-normalizer<3,>=2 in /usr/local/lib/python3.9/dist-packages (from requests<2.29,>=2.24.0->pandas_profiling) (2.1.0)\n",
      "Requirement already satisfied: urllib3<1.27,>=1.21.1 in /usr/local/lib/python3.9/dist-packages (from requests<2.29,>=2.24.0->pandas_profiling) (1.26.10)\n",
      "Collecting patsy>=0.5.2\n",
      "  Downloading patsy-0.5.3-py2.py3-none-any.whl (233 kB)\n",
      "\u001b[2K     \u001b[90m━━━━━━━━━━━━━━━━━━━━━━━━━━━━━━━━━━━━━━\u001b[0m \u001b[32m233.8/233.8 kB\u001b[0m \u001b[31m60.7 MB/s\u001b[0m eta \u001b[36m0:00:00\u001b[0m\n",
      "\u001b[?25hRequirement already satisfied: six in /usr/lib/python3/dist-packages (from patsy>=0.5.2->statsmodels<0.14,>=0.13.2->pandas_profiling) (1.14.0)\n",
      "Requirement already satisfied: PyWavelets in /usr/local/lib/python3.9/dist-packages (from imagehash->visions[type_image_path]==0.7.5->pandas_profiling) (1.3.0)\n",
      "Building wheels for collected packages: htmlmin\n",
      "  Building wheel for htmlmin (setup.py) ... \u001b[?25ldone\n",
      "\u001b[?25h  Created wheel for htmlmin: filename=htmlmin-0.1.12-py3-none-any.whl size=27079 sha256=f8a9ea34b5c9a9034ad4d88f1f82884dad54bd051a31ecab2a10d098dff78f68\n",
      "  Stored in directory: /root/.cache/pip/wheels/1d/05/04/c6d7d3b66539d9e659ac6dfe81e2d0fd4c1a8316cc5a403300\n",
      "Successfully built htmlmin\n",
      "Installing collected packages: htmlmin, typeguard, tangled-up-in-unicode, patsy, multimethod, attrs, imagehash, visions, statsmodels, phik, pandas_profiling\n",
      "  Attempting uninstall: attrs\n",
      "    Found existing installation: attrs 18.2.0\n",
      "    Uninstalling attrs-18.2.0:\n",
      "      Successfully uninstalled attrs-18.2.0\n",
      "\u001b[31mERROR: pip's dependency resolver does not currently take into account all the packages that are installed. This behaviour is the source of the following dependency conflicts.\n",
      "gradient 2.0.5 requires attrs<=19, but you have attrs 22.2.0 which is incompatible.\u001b[0m\u001b[31m\n",
      "\u001b[0mSuccessfully installed attrs-22.2.0 htmlmin-0.1.12 imagehash-4.3.1 multimethod-1.9.1 pandas_profiling-3.6.1 patsy-0.5.3 phik-0.12.3 statsmodels-0.13.5 tangled-up-in-unicode-0.2.0 typeguard-2.13.3 visions-0.7.5\n",
      "\u001b[33mWARNING: Running pip as the 'root' user can result in broken permissions and conflicting behaviour with the system package manager. It is recommended to use a virtual environment instead: https://pip.pypa.io/warnings/venv\u001b[0m\u001b[33m\n",
      "\u001b[0mCollecting plotly\n",
      "  Downloading plotly-5.11.0-py2.py3-none-any.whl (15.3 MB)\n",
      "\u001b[2K     \u001b[90m━━━━━━━━━━━━━━━━━━━━━━━━━━━━━━━━━━━━━━━━\u001b[0m \u001b[32m15.3/15.3 MB\u001b[0m \u001b[31m82.4 MB/s\u001b[0m eta \u001b[36m0:00:00\u001b[0m00:01\u001b[0m00:01\u001b[0m\n",
      "\u001b[?25hCollecting tenacity>=6.2.0\n",
      "  Downloading tenacity-8.1.0-py3-none-any.whl (23 kB)\n",
      "Installing collected packages: tenacity, plotly\n",
      "Successfully installed plotly-5.11.0 tenacity-8.1.0\n",
      "\u001b[33mWARNING: Running pip as the 'root' user can result in broken permissions and conflicting behaviour with the system package manager. It is recommended to use a virtual environment instead: https://pip.pypa.io/warnings/venv\u001b[0m\u001b[33m\n",
      "\u001b[0m"
     ]
    }
   ],
   "source": [
    "from datetime import datetime\n",
    "from pathlib import Path\n",
    "\n",
    "import numpy as np\n",
    "import pandas as pd\n",
    "\n",
    "!pip install pandas_profiling\n",
    "from pandas_profiling import ProfileReport\n",
    "\n",
    "from sklearn.decomposition import PCA\n",
    "from sklearn.manifold import TSNE\n",
    "\n",
    "!pip install plotly\n",
    "\n",
    "import plotly.express as px\n",
    "import plotly.io as pio\n",
    "\n",
    "from tqdm import tqdm\n",
    "\n",
    "pio.renderers.default = \"iframe\"\n",
    "\n",
    "pd.options.plotting.backend = \"plotly\""
   ]
  },
  {
   "cell_type": "markdown",
   "id": "7a8c32a8-e223-48b3-9994-c772fc9d8dbe",
   "metadata": {},
   "source": [
    "# Chargement des fichiers"
   ]
  },
  {
   "cell_type": "code",
   "execution_count": 2,
   "id": "28432b37-333e-4a8f-8a46-7c3b1e249989",
   "metadata": {},
   "outputs": [
    {
     "data": {
      "text/html": [
       "<div>\n",
       "<style scoped>\n",
       "    .dataframe tbody tr th:only-of-type {\n",
       "        vertical-align: middle;\n",
       "    }\n",
       "\n",
       "    .dataframe tbody tr th {\n",
       "        vertical-align: top;\n",
       "    }\n",
       "\n",
       "    .dataframe thead th {\n",
       "        text-align: right;\n",
       "    }\n",
       "</style>\n",
       "<table border=\"1\" class=\"dataframe\">\n",
       "  <thead>\n",
       "    <tr style=\"text-align: right;\">\n",
       "      <th></th>\n",
       "      <th>article_id</th>\n",
       "      <th>category_id</th>\n",
       "      <th>created_at_ts</th>\n",
       "      <th>publisher_id</th>\n",
       "      <th>words_count</th>\n",
       "    </tr>\n",
       "  </thead>\n",
       "  <tbody>\n",
       "    <tr>\n",
       "      <th>count</th>\n",
       "      <td>364047</td>\n",
       "      <td>364047</td>\n",
       "      <td>364047</td>\n",
       "      <td>364047</td>\n",
       "      <td>364047.000000</td>\n",
       "    </tr>\n",
       "    <tr>\n",
       "      <th>unique</th>\n",
       "      <td>364047</td>\n",
       "      <td>461</td>\n",
       "      <td>NaN</td>\n",
       "      <td>1</td>\n",
       "      <td>NaN</td>\n",
       "    </tr>\n",
       "    <tr>\n",
       "      <th>top</th>\n",
       "      <td>0</td>\n",
       "      <td>281</td>\n",
       "      <td>NaN</td>\n",
       "      <td>0</td>\n",
       "      <td>NaN</td>\n",
       "    </tr>\n",
       "    <tr>\n",
       "      <th>freq</th>\n",
       "      <td>1</td>\n",
       "      <td>12817</td>\n",
       "      <td>NaN</td>\n",
       "      <td>364047</td>\n",
       "      <td>NaN</td>\n",
       "    </tr>\n",
       "    <tr>\n",
       "      <th>mean</th>\n",
       "      <td>NaN</td>\n",
       "      <td>NaN</td>\n",
       "      <td>2016-09-16 23:57:17.328421888</td>\n",
       "      <td>NaN</td>\n",
       "      <td>190.897727</td>\n",
       "    </tr>\n",
       "    <tr>\n",
       "      <th>min</th>\n",
       "      <td>NaN</td>\n",
       "      <td>NaN</td>\n",
       "      <td>2006-09-27 11:14:35</td>\n",
       "      <td>NaN</td>\n",
       "      <td>0.000000</td>\n",
       "    </tr>\n",
       "    <tr>\n",
       "      <th>25%</th>\n",
       "      <td>NaN</td>\n",
       "      <td>NaN</td>\n",
       "      <td>2015-10-15 16:00:43.500000</td>\n",
       "      <td>NaN</td>\n",
       "      <td>159.000000</td>\n",
       "    </tr>\n",
       "    <tr>\n",
       "      <th>50%</th>\n",
       "      <td>NaN</td>\n",
       "      <td>NaN</td>\n",
       "      <td>2017-03-13 16:27:29</td>\n",
       "      <td>NaN</td>\n",
       "      <td>186.000000</td>\n",
       "    </tr>\n",
       "    <tr>\n",
       "      <th>75%</th>\n",
       "      <td>NaN</td>\n",
       "      <td>NaN</td>\n",
       "      <td>2017-11-05 14:09:11</td>\n",
       "      <td>NaN</td>\n",
       "      <td>218.000000</td>\n",
       "    </tr>\n",
       "    <tr>\n",
       "      <th>max</th>\n",
       "      <td>NaN</td>\n",
       "      <td>NaN</td>\n",
       "      <td>2018-03-13 12:12:30</td>\n",
       "      <td>NaN</td>\n",
       "      <td>6690.000000</td>\n",
       "    </tr>\n",
       "    <tr>\n",
       "      <th>std</th>\n",
       "      <td>NaN</td>\n",
       "      <td>NaN</td>\n",
       "      <td>NaN</td>\n",
       "      <td>NaN</td>\n",
       "      <td>59.502766</td>\n",
       "    </tr>\n",
       "  </tbody>\n",
       "</table>\n",
       "</div>"
      ],
      "text/plain": [
       "       article_id category_id                  created_at_ts publisher_id  \\\n",
       "count      364047      364047                         364047       364047   \n",
       "unique     364047         461                            NaN            1   \n",
       "top             0         281                            NaN            0   \n",
       "freq            1       12817                            NaN       364047   \n",
       "mean          NaN         NaN  2016-09-16 23:57:17.328421888          NaN   \n",
       "min           NaN         NaN            2006-09-27 11:14:35          NaN   \n",
       "25%           NaN         NaN     2015-10-15 16:00:43.500000          NaN   \n",
       "50%           NaN         NaN            2017-03-13 16:27:29          NaN   \n",
       "75%           NaN         NaN            2017-11-05 14:09:11          NaN   \n",
       "max           NaN         NaN            2018-03-13 12:12:30          NaN   \n",
       "std           NaN         NaN                            NaN          NaN   \n",
       "\n",
       "          words_count  \n",
       "count   364047.000000  \n",
       "unique            NaN  \n",
       "top               NaN  \n",
       "freq              NaN  \n",
       "mean       190.897727  \n",
       "min          0.000000  \n",
       "25%        159.000000  \n",
       "50%        186.000000  \n",
       "75%        218.000000  \n",
       "max       6690.000000  \n",
       "std         59.502766  "
      ]
     },
     "execution_count": 2,
     "metadata": {},
     "output_type": "execute_result"
    }
   ],
   "source": [
    "DATA_PATH = \"/storage/P9\"\n",
    "\n",
    "## Load and describe Articles Metada data\n",
    "\n",
    "articles_metadata = pd.read_csv(\n",
    "    Path(DATA_PATH, \"articles_metadata.csv\"),\n",
    "    parse_dates=[\"created_at_ts\"],\n",
    "    date_parser=lambda x: datetime.fromtimestamp(int(x) / 1000),\n",
    "    dtype={\n",
    "        \"article_id\": \"category\",\n",
    "        \"category_id\": \"category\",\n",
    "        \"publisher_id\": \"category\",\n",
    "        \"words_count\": \"int\",\n",
    "    },\n",
    ")\n",
    "\n",
    "articles_metadata = articles_metadata.astype({\"created_at_ts\": \"datetime64[ns]\"})\n",
    "\n",
    "articles_metadata.describe(include=\"all\", datetime_is_numeric=True)"
   ]
  },
  {
   "cell_type": "code",
   "execution_count": 3,
   "id": "99681241-2d50-4999-974a-e05677ae2e04",
   "metadata": {},
   "outputs": [
    {
     "name": "stderr",
     "output_type": "stream",
     "text": [
      "100%|██████████| 385/385 [00:26<00:00, 14.69it/s]\n"
     ]
    },
    {
     "data": {
      "text/html": [
       "<div>\n",
       "<style scoped>\n",
       "    .dataframe tbody tr th:only-of-type {\n",
       "        vertical-align: middle;\n",
       "    }\n",
       "\n",
       "    .dataframe tbody tr th {\n",
       "        vertical-align: top;\n",
       "    }\n",
       "\n",
       "    .dataframe thead th {\n",
       "        text-align: right;\n",
       "    }\n",
       "</style>\n",
       "<table border=\"1\" class=\"dataframe\">\n",
       "  <thead>\n",
       "    <tr style=\"text-align: right;\">\n",
       "      <th></th>\n",
       "      <th>user_id</th>\n",
       "      <th>session_id</th>\n",
       "      <th>session_start</th>\n",
       "      <th>session_size</th>\n",
       "      <th>click_article_id</th>\n",
       "      <th>click_timestamp</th>\n",
       "      <th>click_environment</th>\n",
       "      <th>click_deviceGroup</th>\n",
       "      <th>click_os</th>\n",
       "      <th>click_country</th>\n",
       "      <th>click_region</th>\n",
       "      <th>click_referrer_type</th>\n",
       "    </tr>\n",
       "  </thead>\n",
       "  <tbody>\n",
       "    <tr>\n",
       "      <th>count</th>\n",
       "      <td>2988181</td>\n",
       "      <td>2988181</td>\n",
       "      <td>2988181</td>\n",
       "      <td>2.988181e+06</td>\n",
       "      <td>2988181</td>\n",
       "      <td>2988181</td>\n",
       "      <td>2988181</td>\n",
       "      <td>2988181</td>\n",
       "      <td>2988181</td>\n",
       "      <td>2988181</td>\n",
       "      <td>2988181</td>\n",
       "      <td>2988181</td>\n",
       "    </tr>\n",
       "    <tr>\n",
       "      <th>unique</th>\n",
       "      <td>322897</td>\n",
       "      <td>1048594</td>\n",
       "      <td>NaN</td>\n",
       "      <td>NaN</td>\n",
       "      <td>46033</td>\n",
       "      <td>NaN</td>\n",
       "      <td>3</td>\n",
       "      <td>5</td>\n",
       "      <td>8</td>\n",
       "      <td>11</td>\n",
       "      <td>28</td>\n",
       "      <td>7</td>\n",
       "    </tr>\n",
       "    <tr>\n",
       "      <th>top</th>\n",
       "      <td>5890</td>\n",
       "      <td>1507563657895091</td>\n",
       "      <td>NaN</td>\n",
       "      <td>NaN</td>\n",
       "      <td>160974</td>\n",
       "      <td>NaN</td>\n",
       "      <td>4 - Web</td>\n",
       "      <td>1 - Tablet</td>\n",
       "      <td>17 - Firefox OS</td>\n",
       "      <td>1</td>\n",
       "      <td>25</td>\n",
       "      <td>2</td>\n",
       "    </tr>\n",
       "    <tr>\n",
       "      <th>freq</th>\n",
       "      <td>1232</td>\n",
       "      <td>124</td>\n",
       "      <td>NaN</td>\n",
       "      <td>NaN</td>\n",
       "      <td>37213</td>\n",
       "      <td>NaN</td>\n",
       "      <td>2904478</td>\n",
       "      <td>1823162</td>\n",
       "      <td>1738138</td>\n",
       "      <td>2852406</td>\n",
       "      <td>804985</td>\n",
       "      <td>1602601</td>\n",
       "    </tr>\n",
       "    <tr>\n",
       "      <th>mean</th>\n",
       "      <td>NaN</td>\n",
       "      <td>NaN</td>\n",
       "      <td>2017-10-08 14:17:08.013157120</td>\n",
       "      <td>3.901885e+00</td>\n",
       "      <td>NaN</td>\n",
       "      <td>2017-10-08 14:51:05.106516736</td>\n",
       "      <td>NaN</td>\n",
       "      <td>NaN</td>\n",
       "      <td>NaN</td>\n",
       "      <td>NaN</td>\n",
       "      <td>NaN</td>\n",
       "      <td>NaN</td>\n",
       "    </tr>\n",
       "    <tr>\n",
       "      <th>min</th>\n",
       "      <td>NaN</td>\n",
       "      <td>NaN</td>\n",
       "      <td>2017-10-01 02:37:03</td>\n",
       "      <td>2.000000e+00</td>\n",
       "      <td>NaN</td>\n",
       "      <td>2017-10-01 03:00:00</td>\n",
       "      <td>NaN</td>\n",
       "      <td>NaN</td>\n",
       "      <td>NaN</td>\n",
       "      <td>NaN</td>\n",
       "      <td>NaN</td>\n",
       "      <td>NaN</td>\n",
       "    </tr>\n",
       "    <tr>\n",
       "      <th>25%</th>\n",
       "      <td>NaN</td>\n",
       "      <td>NaN</td>\n",
       "      <td>2017-10-04 13:35:52</td>\n",
       "      <td>2.000000e+00</td>\n",
       "      <td>NaN</td>\n",
       "      <td>2017-10-04 14:20:52</td>\n",
       "      <td>NaN</td>\n",
       "      <td>NaN</td>\n",
       "      <td>NaN</td>\n",
       "      <td>NaN</td>\n",
       "      <td>NaN</td>\n",
       "      <td>NaN</td>\n",
       "    </tr>\n",
       "    <tr>\n",
       "      <th>50%</th>\n",
       "      <td>NaN</td>\n",
       "      <td>NaN</td>\n",
       "      <td>2017-10-08 20:09:00</td>\n",
       "      <td>3.000000e+00</td>\n",
       "      <td>NaN</td>\n",
       "      <td>2017-10-08 20:35:30</td>\n",
       "      <td>NaN</td>\n",
       "      <td>NaN</td>\n",
       "      <td>NaN</td>\n",
       "      <td>NaN</td>\n",
       "      <td>NaN</td>\n",
       "      <td>NaN</td>\n",
       "    </tr>\n",
       "    <tr>\n",
       "      <th>75%</th>\n",
       "      <td>NaN</td>\n",
       "      <td>NaN</td>\n",
       "      <td>2017-10-11 19:16:54</td>\n",
       "      <td>4.000000e+00</td>\n",
       "      <td>NaN</td>\n",
       "      <td>2017-10-11 19:43:24</td>\n",
       "      <td>NaN</td>\n",
       "      <td>NaN</td>\n",
       "      <td>NaN</td>\n",
       "      <td>NaN</td>\n",
       "      <td>NaN</td>\n",
       "      <td>NaN</td>\n",
       "    </tr>\n",
       "    <tr>\n",
       "      <th>max</th>\n",
       "      <td>NaN</td>\n",
       "      <td>NaN</td>\n",
       "      <td>2017-10-17 03:36:19</td>\n",
       "      <td>1.240000e+02</td>\n",
       "      <td>NaN</td>\n",
       "      <td>2017-11-13 20:04:14</td>\n",
       "      <td>NaN</td>\n",
       "      <td>NaN</td>\n",
       "      <td>NaN</td>\n",
       "      <td>NaN</td>\n",
       "      <td>NaN</td>\n",
       "      <td>NaN</td>\n",
       "    </tr>\n",
       "    <tr>\n",
       "      <th>std</th>\n",
       "      <td>NaN</td>\n",
       "      <td>NaN</td>\n",
       "      <td>NaN</td>\n",
       "      <td>3.929941e+00</td>\n",
       "      <td>NaN</td>\n",
       "      <td>NaN</td>\n",
       "      <td>NaN</td>\n",
       "      <td>NaN</td>\n",
       "      <td>NaN</td>\n",
       "      <td>NaN</td>\n",
       "      <td>NaN</td>\n",
       "      <td>NaN</td>\n",
       "    </tr>\n",
       "  </tbody>\n",
       "</table>\n",
       "</div>"
      ],
      "text/plain": [
       "        user_id        session_id                  session_start  \\\n",
       "count   2988181           2988181                        2988181   \n",
       "unique   322897           1048594                            NaN   \n",
       "top        5890  1507563657895091                            NaN   \n",
       "freq       1232               124                            NaN   \n",
       "mean        NaN               NaN  2017-10-08 14:17:08.013157120   \n",
       "min         NaN               NaN            2017-10-01 02:37:03   \n",
       "25%         NaN               NaN            2017-10-04 13:35:52   \n",
       "50%         NaN               NaN            2017-10-08 20:09:00   \n",
       "75%         NaN               NaN            2017-10-11 19:16:54   \n",
       "max         NaN               NaN            2017-10-17 03:36:19   \n",
       "std         NaN               NaN                            NaN   \n",
       "\n",
       "        session_size click_article_id                click_timestamp  \\\n",
       "count   2.988181e+06          2988181                        2988181   \n",
       "unique           NaN            46033                            NaN   \n",
       "top              NaN           160974                            NaN   \n",
       "freq             NaN            37213                            NaN   \n",
       "mean    3.901885e+00              NaN  2017-10-08 14:51:05.106516736   \n",
       "min     2.000000e+00              NaN            2017-10-01 03:00:00   \n",
       "25%     2.000000e+00              NaN            2017-10-04 14:20:52   \n",
       "50%     3.000000e+00              NaN            2017-10-08 20:35:30   \n",
       "75%     4.000000e+00              NaN            2017-10-11 19:43:24   \n",
       "max     1.240000e+02              NaN            2017-11-13 20:04:14   \n",
       "std     3.929941e+00              NaN                            NaN   \n",
       "\n",
       "       click_environment click_deviceGroup         click_os click_country  \\\n",
       "count            2988181           2988181          2988181       2988181   \n",
       "unique                 3                 5                8            11   \n",
       "top              4 - Web        1 - Tablet  17 - Firefox OS             1   \n",
       "freq             2904478           1823162          1738138       2852406   \n",
       "mean                 NaN               NaN              NaN           NaN   \n",
       "min                  NaN               NaN              NaN           NaN   \n",
       "25%                  NaN               NaN              NaN           NaN   \n",
       "50%                  NaN               NaN              NaN           NaN   \n",
       "75%                  NaN               NaN              NaN           NaN   \n",
       "max                  NaN               NaN              NaN           NaN   \n",
       "std                  NaN               NaN              NaN           NaN   \n",
       "\n",
       "       click_region click_referrer_type  \n",
       "count       2988181             2988181  \n",
       "unique           28                   7  \n",
       "top              25                   2  \n",
       "freq         804985             1602601  \n",
       "mean            NaN                 NaN  \n",
       "min             NaN                 NaN  \n",
       "25%             NaN                 NaN  \n",
       "50%             NaN                 NaN  \n",
       "75%             NaN                 NaN  \n",
       "max             NaN                 NaN  \n",
       "std             NaN                 NaN  "
      ]
     },
     "execution_count": 3,
     "metadata": {},
     "output_type": "execute_result"
    }
   ],
   "source": [
    "## Loading all clicks data\n",
    "\n",
    "clicks = pd.concat(\n",
    "    [\n",
    "        pd.read_csv(\n",
    "            click_file_path,\n",
    "            parse_dates=[\"session_start\", \"click_timestamp\"],\n",
    "            date_parser=lambda x: datetime.fromtimestamp(int(int(x) / 1000)),\n",
    "            dtype={\n",
    "                \"user_id\": \"category\",\n",
    "                \"session_id\": \"category\",\n",
    "                \"session_size\": \"int\",\n",
    "                \"click_article_id\": \"category\",\n",
    "                \"click_environment\": \"category\",\n",
    "                \"click_deviceGroup\": \"category\",\n",
    "                \"click_os\": \"category\",\n",
    "                \"click_country\": \"category\",\n",
    "                \"click_region\": \"category\",\n",
    "                \"click_referrer_type\": \"category\",\n",
    "            },\n",
    "        ).replace(\n",
    "            {\n",
    "                \"click_environment\": {\n",
    "                    \"1\": \"1 - Facebook Instant Article\",\n",
    "                    \"2\": \"2 - Mobile App\",\n",
    "                    \"3\": \"3 - AMP (Accelerated Mobile Pages)\",\n",
    "                    \"4\": \"4 - Web\",\n",
    "                },\n",
    "                \"click_deviceGroup\": {\n",
    "                    \"1\": \"1 - Tablet\",\n",
    "                    \"2\": \"2 - TV\",\n",
    "                    \"3\": \"3 - Empty\",\n",
    "                    \"4\": \"4 - Mobile\",\n",
    "                    \"5\": \"5 - Desktop\",\n",
    "                },\n",
    "                \"click_os\": {\n",
    "                    \"1\": \"1 - Other\",\n",
    "                    \"2\": \"2 - iOS\",\n",
    "                    \"3\": \"3 - Android\",\n",
    "                    \"4\": \"4 - Windows Phone\",\n",
    "                    \"5\": \"5 - Windows Mobile\",\n",
    "                    \"6\": \"6 - Windows\",\n",
    "                    \"7\": \"7 - Mac OS X\",\n",
    "                    \"8\": \"8 - Mac OS\",\n",
    "                    \"9\": \"9 - Samsung\",\n",
    "                    \"10\": \"10 - FireHbbTV\",\n",
    "                    \"11\": \"11 - ATV OS X\",\n",
    "                    \"12\": \"12 - tvOS\",\n",
    "                    \"13\": \"13 - Chrome OS\",\n",
    "                    \"14\": \"14 - Debian\",\n",
    "                    \"15\": \"15 - Symbian OS\",\n",
    "                    \"16\": \"16 - BlackBerry OS\",\n",
    "                    \"17\": \"17 - Firefox OS\",\n",
    "                    \"18\": \"18 - Android\",\n",
    "                    \"19\": \"19 - Brew MP\",\n",
    "                    \"20\": \"20 - Chromecast\",\n",
    "                    \"21\": \"21 - webOS\",\n",
    "                    \"22\": \"22 - Gentoo\",\n",
    "                    \"23\": \"23 - Solaris\",\n",
    "                },\n",
    "            }\n",
    "        )\n",
    "        for click_file_path in tqdm(\n",
    "            sorted(Path(DATA_PATH, \"clicks\").glob(\"clicks_hour_*.csv\"))\n",
    "        )\n",
    "    ],\n",
    "    sort=False,\n",
    "    ignore_index=True,\n",
    "    verify_integrity=True,\n",
    ")\n",
    "\n",
    "clicks = clicks.astype(\n",
    "    {\"session_start\": \"datetime64[ns]\", \"click_timestamp\": \"datetime64[ns]\"}\n",
    ")\n",
    "\n",
    "clicks.describe(include=\"all\", datetime_is_numeric=True)"
   ]
  },
  {
   "cell_type": "markdown",
   "id": "24131727-486f-41f1-b80e-7e0e4619309b",
   "metadata": {},
   "source": [
    "# EDA"
   ]
  },
  {
   "cell_type": "markdown",
   "id": "9def6f32-0a61-4770-8498-af63772bb226",
   "metadata": {},
   "source": [
    "## Metadata"
   ]
  },
  {
   "cell_type": "code",
   "execution_count": 4,
   "id": "4507480b-9cfe-45c9-907d-72950d01518b",
   "metadata": {},
   "outputs": [
    {
     "data": {
      "text/html": [
       "<iframe\n",
       "    scrolling=\"no\"\n",
       "    width=\"100%\"\n",
       "    height=\"545px\"\n",
       "    src=\"iframe_figures/figure_4.html\"\n",
       "    frameborder=\"0\"\n",
       "    allowfullscreen\n",
       "></iframe>\n"
      ]
     },
     "metadata": {},
     "output_type": "display_data"
    }
   ],
   "source": [
    "## Visualize Articles categories distribution\n",
    "\n",
    "articles_metadata[\"category_id\"].value_counts().plot(\n",
    "    kind=\"bar\",\n",
    "    labels={\n",
    "        \"index\": \"Category ID\",\n",
    "        \"value\": \"Count\",\n",
    "    },\n",
    "    color=\"value\",\n",
    "    title=\"Distribution of categories\",\n",
    ")"
   ]
  },
  {
   "cell_type": "code",
   "execution_count": 5,
   "id": "6e5153ec-2540-4580-95ae-0e8daa257940",
   "metadata": {},
   "outputs": [
    {
     "data": {
      "text/html": [
       "<iframe\n",
       "    scrolling=\"no\"\n",
       "    width=\"100%\"\n",
       "    height=\"545px\"\n",
       "    src=\"iframe_figures/figure_5.html\"\n",
       "    frameborder=\"0\"\n",
       "    allowfullscreen\n",
       "></iframe>\n"
      ]
     },
     "metadata": {},
     "output_type": "display_data"
    }
   ],
   "source": [
    "## Visualize number of articles per category distribution\n",
    "\n",
    "articles_metadata[\"category_id\"].value_counts().plot(\n",
    "    kind=\"box\",\n",
    "    x=\"category_id\",\n",
    "    title=\"Distribution of categories counts\",\n",
    "    labels={\n",
    "        \"index\": \"Category ID\",\n",
    "        \"category_id\": \"Count\",\n",
    "    },\n",
    "    notched=True,\n",
    "    points=\"suspectedoutliers\",\n",
    ")"
   ]
  },
  {
   "cell_type": "code",
   "execution_count": 6,
   "id": "9624e457-1e4e-407a-9746-ae10fd6b581c",
   "metadata": {},
   "outputs": [
    {
     "data": {
      "text/html": [
       "<iframe\n",
       "    scrolling=\"no\"\n",
       "    width=\"100%\"\n",
       "    height=\"545px\"\n",
       "    src=\"iframe_figures/figure_6.html\"\n",
       "    frameborder=\"0\"\n",
       "    allowfullscreen\n",
       "></iframe>\n"
      ]
     },
     "metadata": {},
     "output_type": "display_data"
    }
   ],
   "source": [
    "## Visualize Articles creation time distribution\n",
    "\n",
    "articles_metadata.sample(frac=0.10)[\"created_at_ts\"].plot(\n",
    "    kind=\"histogram\",\n",
    "    title=\"Distribution of creation time (sampling = 10%)\",\n",
    "    labels={\n",
    "        \"value\": \"Creation time\",\n",
    "    },\n",
    "    text_auto=True,\n",
    "    marginal=\"box\",\n",
    ")"
   ]
  },
  {
   "cell_type": "code",
   "execution_count": 7,
   "id": "db81e97e-39f2-4deb-b7da-2db5f04f7b70",
   "metadata": {},
   "outputs": [
    {
     "data": {
      "text/html": [
       "<iframe\n",
       "    scrolling=\"no\"\n",
       "    width=\"100%\"\n",
       "    height=\"545px\"\n",
       "    src=\"iframe_figures/figure_7.html\"\n",
       "    frameborder=\"0\"\n",
       "    allowfullscreen\n",
       "></iframe>\n"
      ]
     },
     "metadata": {},
     "output_type": "display_data"
    }
   ],
   "source": [
    "## Visualize articles word count distribution\n",
    "\n",
    "articles_metadata[\"words_count\"].sample(frac=0.10).plot(\n",
    "    kind=\"histogram\",\n",
    "    title=\"Distribution of words count (sampling = 10%)\",\n",
    "    labels={\n",
    "        \"value\": \"Words count\",\n",
    "    },\n",
    "    text_auto=True,\n",
    "    marginal=\"box\",\n",
    ")"
   ]
  },
  {
   "cell_type": "code",
   "execution_count": 8,
   "id": "f7f5cf48-040d-4c40-9ed1-6361477edb65",
   "metadata": {},
   "outputs": [
    {
     "data": {
      "application/vnd.jupyter.widget-view+json": {
       "model_id": "be3c8c02a5b34f65b573aa6a2a886395",
       "version_major": 2,
       "version_minor": 0
      },
      "text/plain": [
       "Summarize dataset:   0%|          | 0/5 [00:00<?, ?it/s]"
      ]
     },
     "metadata": {},
     "output_type": "display_data"
    },
    {
     "data": {
      "application/vnd.jupyter.widget-view+json": {
       "model_id": "61f4ce7cfc6f459ca731e6cfbc55d9b4",
       "version_major": 2,
       "version_minor": 0
      },
      "text/plain": [
       "Generate report structure:   0%|          | 0/1 [00:00<?, ?it/s]"
      ]
     },
     "metadata": {},
     "output_type": "display_data"
    },
    {
     "data": {
      "application/vnd.jupyter.widget-view+json": {
       "model_id": "c1a0a25af70940c9a97edff26a6be061",
       "version_major": 2,
       "version_minor": 0
      },
      "text/plain": [
       "Render HTML:   0%|          | 0/1 [00:00<?, ?it/s]"
      ]
     },
     "metadata": {},
     "output_type": "display_data"
    },
    {
     "data": {
      "application/vnd.jupyter.widget-view+json": {
       "model_id": "9d38d11602f4485cbed64e1d5b5fc32e",
       "version_major": 2,
       "version_minor": 0
      },
      "text/plain": [
       "Export report to file:   0%|          | 0/1 [00:00<?, ?it/s]"
      ]
     },
     "metadata": {},
     "output_type": "display_data"
    }
   ],
   "source": [
    "## Publish Articles Metadata ProfileReport\n",
    "\n",
    "profile = ProfileReport(\n",
    "    articles_metadata,\n",
    "    title=\"Pandas Profiling Report\",\n",
    "    explorative=True,\n",
    "    minimal=True,\n",
    ")\n",
    "profile.to_file(Path(\"./reports/articles_metadata_profile_report.html\"))"
   ]
  },
  {
   "cell_type": "markdown",
   "id": "71e49a65-8887-4851-8744-a863a8b26944",
   "metadata": {},
   "source": [
    "## Clicks"
   ]
  },
  {
   "cell_type": "code",
   "execution_count": 8,
   "id": "aaf1886f-554b-49a8-89bb-c78f3f3394b4",
   "metadata": {},
   "outputs": [
    {
     "name": "stdout",
     "output_type": "stream",
     "text": [
      "Sessions start from 2017-10-01 02:37:03 to 2017-10-17 03:36:19\n",
      "Clicks period starts from 2017-10-01 03:00:00 to 2017-11-13 20:04:14\n"
     ]
    }
   ],
   "source": [
    "## Print period information\n",
    "\n",
    "print('Sessions start from {} to {}'.format(clicks.session_start.min(), clicks.session_start.max()))\n",
    "print('Clicks period starts from {} to {}'.format(clicks.click_timestamp.min(), clicks.click_timestamp.max()))"
   ]
  },
  {
   "cell_type": "code",
   "execution_count": 9,
   "id": "4d0598c1-930c-4b3c-b641-14c419c04cef",
   "metadata": {},
   "outputs": [
    {
     "data": {
      "text/html": [
       "<iframe\n",
       "    scrolling=\"no\"\n",
       "    width=\"100%\"\n",
       "    height=\"545px\"\n",
       "    src=\"iframe_figures/figure_9.html\"\n",
       "    frameborder=\"0\"\n",
       "    allowfullscreen\n",
       "></iframe>\n"
      ]
     },
     "metadata": {},
     "output_type": "display_data"
    }
   ],
   "source": [
    "## Visualize click sessions distribution over time\n",
    "\n",
    "clicks.sample(frac=0.10)[\"session_start\"].plot(\n",
    "    kind=\"histogram\",\n",
    "    title=\"Distribution of sessions (sampling = 10%)\",\n",
    "    labels={\n",
    "        \"value\": \"Sessions\",\n",
    "    },\n",
    "    text_auto=True,\n",
    "    marginal=\"box\",\n",
    ")"
   ]
  },
  {
   "cell_type": "code",
   "execution_count": 10,
   "id": "110cb633-55e0-4dcb-be05-6271b48f468d",
   "metadata": {},
   "outputs": [
    {
     "data": {
      "text/html": [
       "<iframe\n",
       "    scrolling=\"no\"\n",
       "    width=\"100%\"\n",
       "    height=\"545px\"\n",
       "    src=\"iframe_figures/figure_10.html\"\n",
       "    frameborder=\"0\"\n",
       "    allowfullscreen\n",
       "></iframe>\n"
      ]
     },
     "metadata": {},
     "output_type": "display_data"
    }
   ],
   "source": [
    "## Visualize clicks distribution over time\n",
    "\n",
    "clicks.sample(frac=0.10)[\"click_timestamp\"].plot(\n",
    "    kind=\"histogram\",\n",
    "    title=\"Distribution of clicks (sampling = 10%)\",\n",
    "    labels={\n",
    "        \"value\": \"Clicks\",\n",
    "    },\n",
    "    text_auto=True,\n",
    "    marginal=\"box\",\n",
    ")"
   ]
  },
  {
   "cell_type": "code",
   "execution_count": 11,
   "id": "d8b1b42b-a644-49d9-9a5c-c6167797ca27",
   "metadata": {},
   "outputs": [
    {
     "data": {
      "text/html": [
       "<iframe\n",
       "    scrolling=\"no\"\n",
       "    width=\"100%\"\n",
       "    height=\"545px\"\n",
       "    src=\"iframe_figures/figure_11.html\"\n",
       "    frameborder=\"0\"\n",
       "    allowfullscreen\n",
       "></iframe>\n"
      ]
     },
     "metadata": {},
     "output_type": "display_data"
    }
   ],
   "source": [
    "## Visualize clicks sessions size\n",
    "\n",
    "clicks.sample(frac=0.10)[\"session_size\"].plot(\n",
    "    kind=\"histogram\",\n",
    "    title=\"Distribution of session sizes (sampling = 10%)\",\n",
    "    labels={\n",
    "        \"value\": \"Session size\",\n",
    "    },\n",
    "    text_auto=True,\n",
    "    marginal=\"box\",\n",
    ")"
   ]
  },
  {
   "cell_type": "code",
   "execution_count": 12,
   "id": "6f2246f9-f984-40df-aff1-f9f79f9236fd",
   "metadata": {},
   "outputs": [
    {
     "data": {
      "text/html": [
       "<iframe\n",
       "    scrolling=\"no\"\n",
       "    width=\"100%\"\n",
       "    height=\"545px\"\n",
       "    src=\"iframe_figures/figure_12.html\"\n",
       "    frameborder=\"0\"\n",
       "    allowfullscreen\n",
       "></iframe>\n"
      ]
     },
     "metadata": {},
     "output_type": "display_data"
    }
   ],
   "source": [
    "## Visualize nb of clicked articles per user (user engagement)\n",
    "\n",
    "clicks.sample(frac=0.10).groupby(\"user_id\").agg(\n",
    "    COUNT_unique_article=(\"click_article_id\", lambda x: len(set(list(x)))),\n",
    ").plot(\n",
    "    kind=\"histogram\",\n",
    "    title=\"Distribution of number of clicked articles (sampling = 10%)\",\n",
    "    labels={\n",
    "        \"value\": \"Number of clicked articles\",\n",
    "    },\n",
    "    text_auto=True,\n",
    "    marginal=\"box\",\n",
    ")"
   ]
  },
  {
   "cell_type": "code",
   "execution_count": 13,
   "id": "80e161ba-8a06-46d7-9d56-cba61e98f01e",
   "metadata": {},
   "outputs": [
    {
     "data": {
      "text/html": [
       "<iframe\n",
       "    scrolling=\"no\"\n",
       "    width=\"100%\"\n",
       "    height=\"545px\"\n",
       "    src=\"iframe_figures/figure_13.html\"\n",
       "    frameborder=\"0\"\n",
       "    allowfullscreen\n",
       "></iframe>\n"
      ]
     },
     "metadata": {},
     "output_type": "display_data"
    }
   ],
   "source": [
    "## Visualize click environment : user environment\n",
    "\n",
    "fig = px.parallel_categories(\n",
    "    clicks.sample(frac=0.10),\n",
    "    dimensions=[\"click_environment\", \"click_deviceGroup\", \"click_os\"],\n",
    "    title=\"Distribution of Environment x Device Group x OS (sampling = 10%)\",\n",
    "    labels={\n",
    "        \"click_environment\": \"Environment\",\n",
    "        \"click_deviceGroup\": \"Device group\",\n",
    "        \"click_os\": \"OS\",\n",
    "    },\n",
    ")\n",
    "fig.show()"
   ]
  },
  {
   "cell_type": "code",
   "execution_count": 14,
   "id": "10b8aa99-1426-4220-87f9-a0db8306a8a9",
   "metadata": {},
   "outputs": [
    {
     "data": {
      "text/html": [
       "<iframe\n",
       "    scrolling=\"no\"\n",
       "    width=\"100%\"\n",
       "    height=\"545px\"\n",
       "    src=\"iframe_figures/figure_14.html\"\n",
       "    frameborder=\"0\"\n",
       "    allowfullscreen\n",
       "></iframe>\n"
      ]
     },
     "metadata": {},
     "output_type": "display_data"
    }
   ],
   "source": [
    "## Visualize click location : user geolocation\n",
    "\n",
    "fig = px.parallel_categories(\n",
    "    clicks.sample(frac=0.10),\n",
    "    dimensions=[\"click_country\", \"click_region\"],\n",
    "    title=\"Distribution of Country x Region (sampling = 10%)\",\n",
    "    labels={\n",
    "        \"click_country\": \"Country\",\n",
    "        \"click_region\": \"Region\",\n",
    "    },\n",
    ")\n",
    "fig.show()"
   ]
  },
  {
   "cell_type": "code",
   "execution_count": 15,
   "id": "66fd6ab7-f1b1-4d98-8e00-4912e10b6e25",
   "metadata": {},
   "outputs": [
    {
     "data": {
      "text/html": [
       "<iframe\n",
       "    scrolling=\"no\"\n",
       "    width=\"100%\"\n",
       "    height=\"545px\"\n",
       "    src=\"iframe_figures/figure_15.html\"\n",
       "    frameborder=\"0\"\n",
       "    allowfullscreen\n",
       "></iframe>\n"
      ]
     },
     "metadata": {},
     "output_type": "display_data"
    }
   ],
   "source": [
    "## Visualize click referrer : user referrer\n",
    "\n",
    "clicks.sample(frac=0.10)[\"click_referrer_type\"].plot(\n",
    "    kind=\"histogram\",\n",
    "    title=\"Distribution of referrer types (sampling = 10%)\",\n",
    "    labels={\n",
    "        \"value\": \"Referrer type\",\n",
    "    },\n",
    "    category_orders={\n",
    "        \"value\": [str(i) for i in range(1, 8)],\n",
    "    },\n",
    "    text_auto=True,\n",
    ")"
   ]
  },
  {
   "cell_type": "code",
   "execution_count": 32,
   "id": "48b2ea5a-20c5-40d6-905d-df5252c865bc",
   "metadata": {},
   "outputs": [
    {
     "data": {
      "application/vnd.jupyter.widget-view+json": {
       "model_id": "87b4bf0f1a94440c9e07488c8c74d675",
       "version_major": 2,
       "version_minor": 0
      },
      "text/plain": [
       "Summarize dataset:   0%|          | 0/5 [00:00<?, ?it/s]"
      ]
     },
     "metadata": {},
     "output_type": "display_data"
    },
    {
     "data": {
      "application/vnd.jupyter.widget-view+json": {
       "model_id": "96a8d6aa078d4cc183c9ab0cd928bdf0",
       "version_major": 2,
       "version_minor": 0
      },
      "text/plain": [
       "Generate report structure:   0%|          | 0/1 [00:00<?, ?it/s]"
      ]
     },
     "metadata": {},
     "output_type": "display_data"
    },
    {
     "data": {
      "application/vnd.jupyter.widget-view+json": {
       "model_id": "6a24d04efb8d4cab8f9f7abb53f97975",
       "version_major": 2,
       "version_minor": 0
      },
      "text/plain": [
       "Render HTML:   0%|          | 0/1 [00:00<?, ?it/s]"
      ]
     },
     "metadata": {},
     "output_type": "display_data"
    },
    {
     "data": {
      "application/vnd.jupyter.widget-view+json": {
       "model_id": "ca830b7727bb40b7a60d72b9d83683de",
       "version_major": 2,
       "version_minor": 0
      },
      "text/plain": [
       "Export report to file:   0%|          | 0/1 [00:00<?, ?it/s]"
      ]
     },
     "metadata": {},
     "output_type": "display_data"
    }
   ],
   "source": [
    "## Publish clicks metadata ProfileReport\n",
    "\n",
    "profile = ProfileReport(\n",
    "    clicks, title=\"Pandas Profiling Report\", explorative=True, minimal=True\n",
    ")\n",
    "profile.to_file(Path(\"./reports/clicks_profile_report.html\"))"
   ]
  },
  {
   "cell_type": "markdown",
   "id": "5f8a388b-c05f-448d-acc0-dc1b50bb16a6",
   "metadata": {},
   "source": [
    "## Embeddings"
   ]
  },
  {
   "cell_type": "code",
   "execution_count": 19,
   "id": "a33cfbf7-107f-4f1f-b797-ee8f50254f78",
   "metadata": {},
   "outputs": [],
   "source": [
    "## Loading articles embeddings data\n",
    "\n",
    "articles_embeddings = pd.read_pickle(Path(DATA_PATH, \"articles_embeddings.pickle\"))\n",
    "\n",
    "articles = pd.DataFrame(\n",
    "    articles_embeddings,\n",
    "    columns=[\"embedding_\" + str(i) for i in range(articles_embeddings.shape[1])],\n",
    ")\n",
    "articles[\"words_count\"] = articles_metadata[\"words_count\"]\n",
    "articles[\"category_id\"] = articles_metadata[\"category_id\"]\n",
    "articles[\"article_id\"] = articles_metadata[\"article_id\"]\n",
    "\n",
    "articles.describe(include=\"all\", datetime_is_numeric=True)\n",
    "\n",
    "articles_sample = articles.sample(frac=0.10)"
   ]
  },
  {
   "cell_type": "code",
   "execution_count": 17,
   "id": "a50de547-2b14-4cff-a30f-c3373f904823",
   "metadata": {},
   "outputs": [
    {
     "data": {
      "text/html": [
       "<iframe\n",
       "    scrolling=\"no\"\n",
       "    width=\"1220px\"\n",
       "    height=\"820\"\n",
       "    src=\"iframe_figures/figure_17.html\"\n",
       "    frameborder=\"0\"\n",
       "    allowfullscreen\n",
       "></iframe>\n"
      ]
     },
     "metadata": {},
     "output_type": "display_data"
    }
   ],
   "source": [
    "## Visualize Articles Embeddings in 2D PCA\n",
    "\n",
    "pca = PCA(n_components=2)\n",
    "articles_pca = pca.fit_transform(\n",
    "    articles_sample[\n",
    "        [\"embedding_\" + str(i) for i in range(articles_embeddings.shape[1])]\n",
    "    ]\n",
    ")\n",
    "\n",
    "# Plot the data in the PCA space\n",
    "fig = px.scatter(\n",
    "    x=articles_pca[:, 0],\n",
    "    y=articles_pca[:, 1],\n",
    "    color=articles_sample[\"category_id\"],\n",
    "    symbol=articles_sample[\"category_id\"],\n",
    "    title=\"PCA 2D\",\n",
    "    width=1200,\n",
    "    height=800,\n",
    ")\n",
    "fig.show()"
   ]
  },
  {
   "cell_type": "code",
   "execution_count": 18,
   "id": "f40a9088-daae-494d-90bf-c37fb2e805a9",
   "metadata": {},
   "outputs": [
    {
     "name": "stderr",
     "output_type": "stream",
     "text": [
      "/usr/local/lib/python3.9/dist-packages/sklearn/manifold/_t_sne.py:795: FutureWarning:\n",
      "\n",
      "The default initialization in TSNE will change from 'random' to 'pca' in 1.2.\n",
      "\n",
      "/usr/local/lib/python3.9/dist-packages/sklearn/manifold/_t_sne.py:805: FutureWarning:\n",
      "\n",
      "The default learning rate in TSNE will change from 200.0 to 'auto' in 1.2.\n",
      "\n"
     ]
    },
    {
     "data": {
      "text/html": [
       "<iframe\n",
       "    scrolling=\"no\"\n",
       "    width=\"1220px\"\n",
       "    height=\"820\"\n",
       "    src=\"iframe_figures/figure_18.html\"\n",
       "    frameborder=\"0\"\n",
       "    allowfullscreen\n",
       "></iframe>\n"
      ]
     },
     "metadata": {},
     "output_type": "display_data"
    }
   ],
   "source": [
    "## Visualize Articles Embeddings in 2D t-SNE\n",
    "\n",
    "tsne = TSNE(n_components=2)\n",
    "articles_tsne = tsne.fit_transform(\n",
    "    articles_sample[\n",
    "        [\"embedding_\" + str(i) for i in range(articles_embeddings.shape[1])]\n",
    "    ]\n",
    ")\n",
    "\n",
    "# Plot the data in the PCA space\n",
    "fig = px.scatter(\n",
    "    x=articles_tsne[:, 0],\n",
    "    y=articles_tsne[:, 1],\n",
    "    color=articles_sample[\"category_id\"],\n",
    "    symbol=articles_sample[\"category_id\"],\n",
    "    title=\"t-SNE 2D\",\n",
    "    width=1200,\n",
    "    height=800,\n",
    ")\n",
    "fig.show()"
   ]
  },
  {
   "cell_type": "code",
   "execution_count": null,
   "id": "534a79fa-7aea-415b-8447-3747e02a1771",
   "metadata": {},
   "outputs": [],
   "source": []
  }
 ],
 "metadata": {
  "kernelspec": {
   "display_name": "Python 3 (ipykernel)",
   "language": "python",
   "name": "python3"
  },
  "language_info": {
   "codemirror_mode": {
    "name": "ipython",
    "version": 3
   },
   "file_extension": ".py",
   "mimetype": "text/x-python",
   "name": "python",
   "nbconvert_exporter": "python",
   "pygments_lexer": "ipython3",
   "version": "3.9.13"
  }
 },
 "nbformat": 4,
 "nbformat_minor": 5
}
